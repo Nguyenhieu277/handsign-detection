{
  "cells": [
    {
      "cell_type": "code",
      "execution_count": 1,
      "metadata": {
        "id": "ca9Qj07v8PdZ"
      },
      "outputs": [],
      "source": [
        "from keras.models import Sequential\n",
        "from keras.layers import Dense, Conv2D, Dropout, Flatten, MaxPooling2D\n",
        "from tensorflow.keras.preprocessing.image import ImageDataGenerator"
      ]
    },
    {
      "cell_type": "code",
      "execution_count": null,
      "metadata": {
        "colab": {
          "base_uri": "https://localhost:8080/"
        },
        "id": "DKWn8m5u9-Ol",
        "outputId": "b18f8390-8882-4aee-d1d5-fb6f04d1df75"
      },
      "outputs": [],
      "source": [
        "!git clone https://github.com/Nguyenhieu277/handsign-dataset.git\n"
      ]
    },
    {
      "cell_type": "code",
      "execution_count": null,
      "metadata": {
        "colab": {
          "base_uri": "https://localhost:8080/"
        },
        "id": "mOozkaHD-fs8",
        "outputId": "e9cf1bed-76a4-47f4-dfed-693576e647da"
      },
      "outputs": [],
      "source": [
        "datagen_training = ImageDataGenerator(rescale = 1./255)\n",
        "\n",
        "training_data = datagen_training.flow_from_directory(\n",
        "    '/content/handsign-dataset/split_img2/train',\n",
        "    target_size = (48, 48),\n",
        "    batch_size = 32,\n",
        "    class_mode = 'categorical',\n",
        "    color_mode = 'grayscale'\n",
        ")\n",
        "datagen_valid = ImageDataGenerator(rescale = 1./255)\n",
        "\n",
        "validation_data = datagen_valid.flow_from_directory(\n",
        "    '/content/handsign-dataset/split_img2/val',\n",
        "    target_size = (48, 48),\n",
        "    batch_size = 32,\n",
        "    class_mode = 'categorical',\n",
        "    color_mode = 'grayscale'\n",
        ")\n"
      ]
    },
    {
      "cell_type": "markdown",
      "metadata": {
        "id": "TQeE7X8M_gEV"
      },
      "source": [
        "Build CNN\n"
      ]
    },
    {
      "cell_type": "code",
      "execution_count": null,
      "metadata": {
        "colab": {
          "base_uri": "https://localhost:8080/",
          "height": 665
        },
        "id": "VeC4wgBp_iW_",
        "outputId": "ca48f545-34d2-4202-9396-e44c37e17d38"
      },
      "outputs": [],
      "source": [
        "model = Sequential()\n",
        "model.add(Conv2D(128, (3, 3), activation = 'relu', input_shape = (48, 48, 1)))\n",
        "model.add(MaxPooling2D((2, 2)))\n",
        "model.add(Dropout(0.4))\n",
        "model.add(Conv2D(256, (3, 3), activation = 'relu'))\n",
        "model.add(MaxPooling2D((2, 2)))\n",
        "model.add(Dropout(0.4))\n",
        "model.add(Conv2D(512, (3, 3), activation = 'relu'))\n",
        "model.add(MaxPooling2D((2, 2)))\n",
        "model.add(Dropout(0.4))\n",
        "model.add(Dense(512, activation = 'relu'))\n",
        "model.add(Dropout(0.4))\n",
        "model.add(Flatten())\n",
        "model.add(Dense(128, activation = 'relu'))\n",
        "model.add(Dropout(0.4))\n",
        "model.add(Dense(25, activation = 'softmax'))\n",
        "model.summary()"
      ]
    },
    {
      "cell_type": "code",
      "execution_count": 5,
      "metadata": {
        "id": "B5YG6ykYA7lH"
      },
      "outputs": [],
      "source": [
        "model.compile(optimizer = 'adam', loss = 'categorical_crossentropy', metrics = ['accuracy'])"
      ]
    },
    {
      "cell_type": "code",
      "execution_count": null,
      "metadata": {
        "colab": {
          "base_uri": "https://localhost:8080/"
        },
        "id": "SmFoFdB8BAkv",
        "outputId": "7b1073e8-a1bb-4a53-fbe1-17d6492a2f64"
      },
      "outputs": [],
      "source": [
        "model.fit(\n",
        "    training_data,\n",
        "    batch_size = 32,\n",
        "    epochs=100,\n",
        "    validation_data=validation_data,\n",
        ")"
      ]
    },
    {
      "cell_type": "code",
      "execution_count": null,
      "metadata": {
        "id": "5Z1sKUcsHYuX"
      },
      "outputs": [],
      "source": [
        "model_json = model.to_json()\n",
        "with open(\"handsign_model.json\", \"w\") as json_file:\n",
        "    json_file.write(model_json)\n",
        "model.save(\"handsign_model.h5\")\n"
      ]
    }
  ],
  "metadata": {
    "accelerator": "GPU",
    "colab": {
      "gpuType": "T4",
      "provenance": []
    },
    "kernelspec": {
      "display_name": "Python 3",
      "name": "python3"
    },
    "language_info": {
      "name": "python"
    }
  },
  "nbformat": 4,
  "nbformat_minor": 0
}
